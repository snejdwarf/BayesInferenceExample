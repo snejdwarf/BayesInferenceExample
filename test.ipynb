{
 "cells": [
  {
   "cell_type": "code",
   "execution_count": 2,
   "metadata": {},
   "outputs": [],
   "source": [
    "import pyAgrum as gum\n",
    "import pyAgrum.lib.notebook as gnb\n",
    "\n",
    "# Create your Bayesian Network (as shown previously)\n",
    "bn = gum.BayesNet(\"Example\")\n",
    "bn.add(gum.LabelizedVariable(\"Rain\", \"Rainy Weather\", 2))\n",
    "bn.add(gum.LabelizedVariable(\"Sprinkler\", \"Sprinkler is on\", 2))\n",
    "bn.add(gum.LabelizedVariable(\"GrassWet\", \"Grass is Wet\", 2))\n",
    "bn.addArc(\"Rain\", \"Sprinkler\")\n",
    "bn.addArc(\"Rain\", \"GrassWet\")\n",
    "bn.addArc(\"Sprinkler\", \"GrassWet\")\n",
    "\n",
    "# Display the Bayesian Network\n",
    "# gnb.showBN(bn)"
   ]
  },
  {
   "cell_type": "code",
   "execution_count": null,
   "metadata": {},
   "outputs": [],
   "source": []
  }
 ],
 "metadata": {
  "kernelspec": {
   "display_name": ".venv",
   "language": "python",
   "name": "python3"
  },
  "language_info": {
   "codemirror_mode": {
    "name": "ipython",
    "version": 3
   },
   "file_extension": ".py",
   "mimetype": "text/x-python",
   "name": "python",
   "nbconvert_exporter": "python",
   "pygments_lexer": "ipython3",
   "version": "3.9.6"
  }
 },
 "nbformat": 4,
 "nbformat_minor": 2
}
